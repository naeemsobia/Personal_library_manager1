{
  "nbformat": 4,
  "nbformat_minor": 0,
  "metadata": {
    "colab": {
      "provenance": [],
      "authorship_tag": "ABX9TyMg+DrWrlaNkdLMf8nScYok",
      "include_colab_link": true
    },
    "kernelspec": {
      "name": "python3",
      "display_name": "Python 3"
    },
    "language_info": {
      "name": "python"
    }
  },
  "cells": [
    {
      "cell_type": "markdown",
      "metadata": {
        "id": "view-in-github",
        "colab_type": "text"
      },
      "source": [
        "<a href=\"https://colab.research.google.com/github/naeemsobia/Personal_library_manager1/blob/main/Personal_library_manager.ipynb\" target=\"_parent\"><img src=\"https://colab.research.google.com/assets/colab-badge.svg\" alt=\"Open In Colab\"/></a>"
      ]
    },
    {
      "cell_type": "code",
      "execution_count": null,
      "metadata": {
        "id": "OdLIFGhuMwS-"
      },
      "outputs": [],
      "source": [
        "import streamlit as st # type: ignore\n",
        "import json\n",
        "\n",
        "#load and save library data\n",
        "\n",
        "def load_library():\n",
        "    try:\n",
        "        with open(\"library.json\", \"r\")as file:\n",
        "            return json.load(file)\n",
        "    except FileNotFoundError:\n",
        "        return []\n",
        "\n",
        "def save_library():\n",
        "    with open(\"library.json\", \"w\")as file:\n",
        "        json.dump(library,file,indent=4)\n",
        "\n",
        "    # initialize library\n",
        "library = load_library()\n",
        "st.title(\"Personal Library Manager\")\n",
        "menu = st.sidebar.radio(\"Select an option\", [\"View Library\",\"Add Book\",\"Remove Book\", \"Search Book\", \"Save and Exit\"])\n",
        "if menu == \"View Library\":\n",
        "    st.sidebar(\"Your Library\")\n",
        "    if library:\n",
        "        st.table(library)\n",
        "    else:\n",
        "        st.write(\"No books in your library.Add some books!\")\n",
        "\n",
        "        #Add books\n",
        "\n",
        "elif menu == \"Add Book\":\n",
        "    st.sidebar(\"Add a new book\")\n",
        "    title = st.text_input(\"Title\")\n",
        "    author = st.text_input(\"Author\")\n",
        "    year = st.number_input(\"Year\", min_value=2022,max_value=2000 )\n",
        "    genre = st.text_input(\"Genre\")\n",
        "    read_status = st.checkbox(\"Mark as Read\")\n",
        "\n",
        "    if st.button(\"Add Book\"):\n",
        "        library.append({\"title\":title, \"author\":author, \"year\":year, \"genre\":genre, \"read_status\":read_status})\n",
        "        save_library()\n",
        "        st.success(\"Book added seccessfully\")\n",
        "        st.rerun()\n",
        "\n",
        "    #remove book\n",
        "\n",
        "elif menu == \"Remove Book\":\n",
        "    st.sidebar(\"Remove a book\")\n",
        "    book_titles = [book[\"title\"] for book in library]\n",
        "\n",
        "    if book_titles:\n",
        "        selected_book = st.selectbox(\"Select a book to remove\", book_titles)\n",
        "        if st.button(\"Remove Book\"):\n",
        "            library = [book for book in library if book [\"title\"] != selected_book]\n",
        "            save_library()\n",
        "            st.success(\"Book removed successfully!\")\n",
        "            st.rerun()\n",
        "        else:\n",
        "            st.warning(\"No book in your library.Add some books! \")\n",
        "#search book\n",
        "elif menu == \"Search Book\":\n",
        "    st.sidebar(\"Search a book\")\n",
        "    search_term = st.text_input(\"Enter title or author name\")\n",
        "\n",
        "    if st.button(\"Seach\"):\n",
        "        results = [book for book in library if search_term.lower() in book\n",
        "        [\"title\"].lower()or search_term() in book[\"author\"].lower()]\n",
        "        if results:\n",
        "            st.table(results)\n",
        "        else:\n",
        "            st.warning(\"No book found!\")\n",
        "\n",
        "#save and exit\n",
        "elif menu == \"Save and Exit\":\n",
        "    save_library()\n",
        "    st.success(\"Library saved successfully!\")\n",
        "\n"
      ]
    }
  ]
}